{
 "cells": [
  {
   "cell_type": "markdown",
   "metadata": {},
   "source": [
    "[Liger Kenrel](https://github.com/linkedin/Liger-Kernel) &mdash; это библиотека с оптимизированными кернелами для торча, написанными на triton, которые часто применяются в большх современных моделях. Засчёт того, что мы спускаемся на уровень абстракций ниже, где можно более деталеьно усправлять памятью и вычислениями, получается сэкономить до 60% памяти и ускорить модели на примерно 20% в некоторых случаях.\n",
    "\n",
    "На данный момент оптимизированные кернелы есть для следующих слоёв: RoPE, RMSNorm, SwiGLU, CrossEntropyLoss и других."
   ]
  },
  {
   "cell_type": "code",
   "execution_count": 1,
   "metadata": {},
   "outputs": [],
   "source": [
    "import gc\n",
    "import random\n",
    "from os import environ\n",
    "environ[\"CUDA_VISIBLE_DEVICES\"] = \"GPU-fe2d8dfd-06f2-a5c4-a7fd-4a5f23947005\"\n",
    "from tqdm import tqdm\n",
    "\n",
    "import torch\n",
    "import torch.nn as nn\n",
    "import torch.nn.functional as F\n",
    "from torch.utils.data import DataLoader, Dataset\n",
    "\n",
    "from datasets import load_dataset\n",
    "from transformers import AutoModelForCausalLM, AutoTokenizer\n",
    "\n",
    "from liger_kernel.transformers import AutoLigerKernelForCausalLM, LigerCrossEntropyLoss, LigerFusedLinearCrossEntropyLoss"
   ]
  },
  {
   "cell_type": "code",
   "execution_count": 2,
   "metadata": {},
   "outputs": [],
   "source": [
    "# Seeding everything for deterministic results\n",
    "\n",
    "seed = 138\n",
    "\n",
    "random.seed(seed)\n",
    "environ[\"PYTHONHASHSEED\"] = str(seed)\n",
    "torch.manual_seed(seed)\n",
    "torch.cuda.manual_seed(seed)\n",
    "torch.cuda.manual_seed_all(seed)\n",
    "torch.backends.cudnn.deterministic = True"
   ]
  },
  {
   "cell_type": "markdown",
   "metadata": {},
   "source": [
    "Создадим даталоадер для маленького датасета со школьными задачами. Токенизатор используем стандартный для модели."
   ]
  },
  {
   "cell_type": "code",
   "execution_count": 3,
   "metadata": {},
   "outputs": [],
   "source": [
    "class ListSentenceDataset(Dataset):\n",
    "    def __init__(self, sentence_list):\n",
    "        self.data = sentence_list\n",
    "\n",
    "    def __len__(self) -> int:\n",
    "        return len(self.data)\n",
    "\n",
    "    def __getitem__(self, idx: int):\n",
    "        return self.data[idx]\n",
    "    \n",
    "    def __getitems(self, idx: slice):\n",
    "        return self.data[idx]\n",
    "\n",
    "ds = ListSentenceDataset(load_dataset(\"madrylab/gsm8k-platinum\")[\"test\"][\"question\"])\n",
    "\n",
    "tokenizer = AutoTokenizer.from_pretrained(\"unsloth/Llama-3.2-1B\", padding_side=\"left\", truncation_side=\"left\", return_tensors=\"pt\")\n",
    "def encoding_collator(batch):\n",
    "    global tokenizer\n",
    "    return tokenizer(batch, padding=True, return_tensors=\"pt\")\n",
    "\n",
    "BS = 12\n",
    "train_dl = DataLoader(ds, batch_size=BS, shuffle=False, collate_fn=encoding_collator)\n",
    "eval_dl = DataLoader(ds, batch_size=BS * 3, shuffle=False, collate_fn=encoding_collator)"
   ]
  },
  {
   "cell_type": "markdown",
   "metadata": {},
   "source": [
    "Функции для тестирования обучения модели."
   ]
  },
  {
   "cell_type": "code",
   "execution_count": 4,
   "metadata": {},
   "outputs": [],
   "source": [
    "DEVICE = torch.device(\"cuda:0\")\n",
    "\n",
    "def train_loop(model, train_loader, criterion, optimizer, num_epochs: int = 2, device = DEVICE, use_fused_kernel: bool = False):\n",
    "    model.train()\n",
    "    for _ in tqdm(range(num_epochs)):\n",
    "        iter_pbar = tqdm(train_loader, leave=False)\n",
    "        for batch in iter_pbar:\n",
    "            input_ids, attn_mask = batch[\"input_ids\"].to(device), batch[\"attention_mask\"].to(device)\n",
    "\n",
    "            if use_fused_kernel:\n",
    "                outputs = model(input_ids = input_ids[:, :-1], attention_mask = attn_mask[:, :-1], output_hidden_states=True).hidden_states[-1].flatten(0, -2)\n",
    "                target = input_ids[:, 1:].reshape(-1)\n",
    "                loss = criterion(model.lm_head.weight, outputs, target)\n",
    "            else:\n",
    "                outputs = model(input_ids = input_ids[:, :-1], attention_mask = attn_mask[:, :-1]).logits.flatten(0, -2)\n",
    "                target = input_ids[:, 1:].reshape(-1)\n",
    "                loss = criterion(outputs, target)\n",
    "\n",
    "            optimizer.zero_grad()\n",
    "            loss.backward()\n",
    "            optimizer.step()\n",
    "\n",
    "def test_training(model, criterion, device=DEVICE, use_fused_kernel: bool = False):\n",
    "    model.to(device)\n",
    "    optimizer = torch.optim.AdamW(model.parameters(), lr=6e-4)\n",
    "\n",
    "    torch.cuda.empty_cache()\n",
    "    gc.collect()\n",
    "    torch.cuda.reset_peak_memory_stats()\n",
    "\n",
    "    train_loop(model=model, train_loader=train_dl, criterion=criterion, optimizer=optimizer, device=device, use_fused_kernel=use_fused_kernel)\n",
    "    del model, criterion, optimizer\n",
    "    print(f\"Max memory allocated: {torch.cuda.max_memory_allocated() // (2 ** 20)} MB\")"
   ]
  },
  {
   "cell_type": "markdown",
   "metadata": {},
   "source": [
    "Прогон без Liger Kernel."
   ]
  },
  {
   "cell_type": "code",
   "execution_count": 5,
   "metadata": {},
   "outputs": [
    {
     "name": "stderr",
     "output_type": "stream",
     "text": [
      "100%|██████████| 2/2 [01:21<00:00, 40.57s/it]"
     ]
    },
    {
     "name": "stdout",
     "output_type": "stream",
     "text": [
      "Max memory allocated: 14502 MB\n"
     ]
    },
    {
     "name": "stderr",
     "output_type": "stream",
     "text": [
      "\n"
     ]
    }
   ],
   "source": [
    "model = AutoModelForCausalLM.from_pretrained(\"unsloth/Llama-3.2-1B\", torch_dtype=\"bfloat16\")\n",
    "criterion = nn.CrossEntropyLoss()\n",
    "test_training(model, criterion)"
   ]
  },
  {
   "cell_type": "markdown",
   "metadata": {},
   "source": [
    "Включим Liger Kernel и прогоним эпоху ещё раз."
   ]
  },
  {
   "cell_type": "code",
   "execution_count": 6,
   "metadata": {},
   "outputs": [
    {
     "name": "stderr",
     "output_type": "stream",
     "text": [
      "100%|██████████| 2/2 [01:11<00:00, 35.68s/it]"
     ]
    },
    {
     "name": "stdout",
     "output_type": "stream",
     "text": [
      "Max memory allocated: 13174 MB\n"
     ]
    },
    {
     "name": "stderr",
     "output_type": "stream",
     "text": [
      "\n"
     ]
    }
   ],
   "source": [
    "model = AutoLigerKernelForCausalLM.from_pretrained(\"unsloth/Llama-3.2-1B\", torch_dtype=\"bfloat16\")\n",
    "criterion = LigerCrossEntropyLoss()\n",
    "test_training(model, criterion)"
   ]
  },
  {
   "cell_type": "markdown",
   "metadata": {},
   "source": [
    "Как мы видим, получилось неольшое ускорение и небольшое сокращение памяти. На больших батччах и моделях этот эффект будет ещё более заметен.\n",
    "\n",
    "Ещё хочу скзаать, что если использовать лосс, посчитанный напрямую в модели, можно выиграть ещё больше, так как в Liger Kernels существуют лоссы, совмещающие в себе реальный лосс и линейный слой перед ним, что позволяет экономить ещё больше памяти. Однако с таким интерфейсом вычисления происходят дольше и в целях демонстрации я выбрал тот подход, который написан выше. Ячейку ниже можно запустить, елси хочется перепроверить получаемый максимальный объём памяти."
   ]
  },
  {
   "cell_type": "code",
   "execution_count": 7,
   "metadata": {},
   "outputs": [
    {
     "name": "stderr",
     "output_type": "stream",
     "text": [
      "100%|██████████| 2/2 [01:53<00:00, 56.63s/it]"
     ]
    },
    {
     "name": "stdout",
     "output_type": "stream",
     "text": [
      "Max memory allocated: 12911 MB\n"
     ]
    },
    {
     "name": "stderr",
     "output_type": "stream",
     "text": [
      "\n"
     ]
    }
   ],
   "source": [
    "model = AutoLigerKernelForCausalLM.from_pretrained(\"unsloth/Llama-3.2-1B\", torch_dtype=\"bfloat16\")\n",
    "criterion = LigerFusedLinearCrossEntropyLoss()\n",
    "test_training(model, criterion, use_fused_kernel=True)"
   ]
  },
  {
   "cell_type": "markdown",
   "metadata": {},
   "source": [
    "Теперь протестируем поведение моделей на инференсе."
   ]
  },
  {
   "cell_type": "code",
   "execution_count": 8,
   "metadata": {},
   "outputs": [],
   "source": [
    "DEVICE = torch.device(\"cuda:0\")\n",
    "\n",
    "def eval_loop(model, eval_loader, num_epochs: int = 4, device = DEVICE):\n",
    "    model.eval()\n",
    "    with torch.no_grad():\n",
    "        for _ in tqdm(range(num_epochs)):\n",
    "            iter_pbar = tqdm(eval_loader, leave=False)\n",
    "            for batch in iter_pbar:\n",
    "                input_ids, attn_mask = batch[\"input_ids\"].to(device), batch[\"attention_mask\"].to(device)\n",
    "                outputs = model(input_ids = input_ids, attention_mask = attn_mask)\n",
    "\n",
    "def test_eval(model, device=DEVICE):\n",
    "    model.to(device)\n",
    "\n",
    "    torch.cuda.empty_cache()\n",
    "    gc.collect()\n",
    "    torch.cuda.reset_peak_memory_stats()\n",
    "\n",
    "    eval_loop(model=model, eval_loader=eval_dl, device=device)\n",
    "    del model\n",
    "    print(f\"Max memory allocated: {torch.cuda.max_memory_allocated() // (2 ** 20)} MB\")"
   ]
  },
  {
   "cell_type": "markdown",
   "metadata": {},
   "source": [
    "Прогоним сначала обычную версию, а потом с Liger Kernel."
   ]
  },
  {
   "cell_type": "code",
   "execution_count": 9,
   "metadata": {},
   "outputs": [
    {
     "name": "stderr",
     "output_type": "stream",
     "text": [
      "100%|██████████| 4/4 [00:30<00:00,  7.51s/it]"
     ]
    },
    {
     "name": "stdout",
     "output_type": "stream",
     "text": [
      "Max memory allocated: 5455 MB\n"
     ]
    },
    {
     "name": "stderr",
     "output_type": "stream",
     "text": [
      "\n"
     ]
    }
   ],
   "source": [
    "model = AutoModelForCausalLM.from_pretrained(\"unsloth/Llama-3.2-1B\", torch_dtype=\"bfloat16\")\n",
    "test_eval(model)"
   ]
  },
  {
   "cell_type": "code",
   "execution_count": 10,
   "metadata": {},
   "outputs": [
    {
     "name": "stderr",
     "output_type": "stream",
     "text": [
      "100%|██████████| 4/4 [00:30<00:00,  7.53s/it]"
     ]
    },
    {
     "name": "stdout",
     "output_type": "stream",
     "text": [
      "Max memory allocated: 5455 MB\n"
     ]
    },
    {
     "name": "stderr",
     "output_type": "stream",
     "text": [
      "\n"
     ]
    }
   ],
   "source": [
    "model = AutoLigerKernelForCausalLM.from_pretrained(\"unsloth/Llama-3.2-1B\", torch_dtype=\"bfloat16\")\n",
    "test_eval(model)"
   ]
  },
  {
   "cell_type": "markdown",
   "metadata": {},
   "source": [
    "На инференсе эффект от использования Liger Kernel менее заметен, потому что задача более простая и не требует бэквардов."
   ]
  }
 ],
 "metadata": {
  "kernelspec": {
   "display_name": "effdl",
   "language": "python",
   "name": "python3"
  },
  "language_info": {
   "codemirror_mode": {
    "name": "ipython",
    "version": 3
   },
   "file_extension": ".py",
   "mimetype": "text/x-python",
   "name": "python",
   "nbconvert_exporter": "python",
   "pygments_lexer": "ipython3",
   "version": "3.12.8"
  }
 },
 "nbformat": 4,
 "nbformat_minor": 2
}
